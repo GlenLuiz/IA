{
  "nbformat": 4,
  "nbformat_minor": 0,
  "metadata": {
    "colab": {
      "name": "Untitled1.ipynb",
      "provenance": [],
      "collapsed_sections": [],
      "authorship_tag": "ABX9TyOmiGEs8lEmIp8FIZ35PKv9",
      "include_colab_link": true
    },
    "kernelspec": {
      "name": "python3",
      "display_name": "Python 3"
    }
  },
  "cells": [
    {
      "cell_type": "markdown",
      "metadata": {
        "id": "view-in-github",
        "colab_type": "text"
      },
      "source": [
        "<a href=\"https://colab.research.google.com/github/GlenLuiz/IA/blob/master/RegressaoLinear.ipynb\" target=\"_parent\"><img src=\"https://colab.research.google.com/assets/colab-badge.svg\" alt=\"Open In Colab\"/></a>"
      ]
    },
    {
      "cell_type": "code",
      "metadata": {
        "id": "AvZKPegCraEg",
        "colab_type": "code",
        "colab": {}
      },
      "source": [
        ""
      ],
      "execution_count": null,
      "outputs": []
    },
    {
      "cell_type": "markdown",
      "metadata": {
        "id": "cKIvM8_grbIQ",
        "colab_type": "text"
      },
      "source": [
        "## **Regressão Liner**"
      ]
    },
    {
      "cell_type": "markdown",
      "metadata": {
        "id": "9h6GB_6hrhj_",
        "colab_type": "text"
      },
      "source": [
        "## Instalacão da biblioteca\n",
        "\n",
        "        > Numpy\n",
        "        > Pandas\n",
        "        > Matplot\n",
        "        > Sklearn"
      ]
    },
    {
      "cell_type": "code",
      "metadata": {
        "id": "hnpUaPBWrgn_",
        "colab_type": "code",
        "colab": {}
      },
      "source": [
        "import pandas as pd\n",
        "from pandas import Series, DataFrame\n",
        "import numpy as np"
      ],
      "execution_count": null,
      "outputs": []
    },
    {
      "cell_type": "markdown",
      "metadata": {
        "id": "Binbp4JfrpcQ",
        "colab_type": "text"
      },
      "source": [
        "- Lendo base de dados\n",
        "\n"
      ]
    },
    {
      "cell_type": "code",
      "metadata": {
        "id": "aDPM5jVBrzXY",
        "colab_type": "code",
        "colab": {
          "base_uri": "https://localhost:8080/",
          "height": 195
        },
        "outputId": "6de72ac5-d24f-4480-efe9-815b6ccafe8e"
      },
      "source": [
        "url = 'github.com/GlenLuiz/IA/blob/master/plano_saude.csv'\n",
        "base = pd.read_csv(url)\n",
        "\n"
      ],
      "execution_count": 7,
      "outputs": [
        {
          "output_type": "error",
          "ename": "NameError",
          "evalue": "ignored",
          "traceback": [
            "\u001b[0;31m---------------------------------------------------------------------------\u001b[0m",
            "\u001b[0;31mNameError\u001b[0m                                 Traceback (most recent call last)",
            "\u001b[0;32m<ipython-input-7-c6a317339602>\u001b[0m in \u001b[0;36m<module>\u001b[0;34m()\u001b[0m\n\u001b[1;32m      1\u001b[0m \u001b[0murl\u001b[0m \u001b[0;34m=\u001b[0m \u001b[0;34m'github.com/GlenLuiz/IA/blob/master/plano_saude.csv'\u001b[0m\u001b[0;34m\u001b[0m\u001b[0;34m\u001b[0m\u001b[0m\n\u001b[0;32m----> 2\u001b[0;31m \u001b[0mbase\u001b[0m \u001b[0;34m=\u001b[0m \u001b[0mpd\u001b[0m\u001b[0;34m.\u001b[0m\u001b[0mread_csv\u001b[0m\u001b[0;34m(\u001b[0m\u001b[0murl\u001b[0m\u001b[0;34m)\u001b[0m\u001b[0;34m\u001b[0m\u001b[0;34m\u001b[0m\u001b[0m\n\u001b[0m\u001b[1;32m      3\u001b[0m \u001b[0;34m\u001b[0m\u001b[0m\n",
            "\u001b[0;31mNameError\u001b[0m: name 'pd' is not defined"
          ]
        }
      ]
    },
    {
      "cell_type": "code",
      "metadata": {
        "id": "9SsNtpC9teTQ",
        "colab_type": "code",
        "colab": {}
      },
      "source": [
        "\n",
        "X = base.iloc[:, 0].values\n",
        "y = base.iloc[:, 1].values\n",
        "\n",
        "correlacao = np.corrcoef(X, y)\n",
        "X = X.reshape(-1,1)\n",
        "\n",
        "\n",
        "\n",
        "print(correlacao)"
      ],
      "execution_count": null,
      "outputs": []
    },
    {
      "cell_type": "markdown",
      "metadata": {
        "id": "-KPlrUyeto5_",
        "colab_type": "text"
      },
      "source": [
        "- Plotando Linha da Regressão"
      ]
    },
    {
      "cell_type": "code",
      "metadata": {
        "id": "ATpgCK10tlIH",
        "colab_type": "code",
        "colab": {}
      },
      "source": [
        "from sklearn.linear_model import LinearRegression\n",
        "regressor = LinearRegression()\n",
        "\n",
        "regressor.fit(X,y)\n",
        "\n",
        "\n",
        "regressor.coef_\n",
        "\n",
        "regressor.intercept_"
      ],
      "execution_count": null,
      "outputs": []
    },
    {
      "cell_type": "markdown",
      "metadata": {
        "id": "4aZlwyr-t2LH",
        "colab_type": "text"
      },
      "source": [
        "-Plotando o Grafico"
      ]
    },
    {
      "cell_type": "code",
      "metadata": {
        "id": "3GI7LGrjt1hv",
        "colab_type": "code",
        "colab": {}
      },
      "source": [
        "import matplotlib.pyplot as plt \n",
        "plt.scatter(X, y)\n",
        "plt.plot(X, regressor.predict(X), color = 'red')\n",
        "plt.title('Regressao L')\n",
        "plt.xlabel('Idade')\n",
        "plt.ylabel('Valor')"
      ],
      "execution_count": null,
      "outputs": []
    },
    {
      "cell_type": "markdown",
      "metadata": {
        "id": "DNwM-Y7RuJFH",
        "colab_type": "text"
      },
      "source": [
        "-Previsão para 40 anos"
      ]
    },
    {
      "cell_type": "code",
      "metadata": {
        "id": "Rp_Sw6pVuIyX",
        "colab_type": "code",
        "colab": {}
      },
      "source": [
        "previsao1 = regressor.intercept_ + regressor.coef_ * 40\n",
        "print(previsao1)"
      ],
      "execution_count": null,
      "outputs": []
    }
  ]
}