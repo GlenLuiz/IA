{
  "nbformat": 4,
  "nbformat_minor": 0,
  "metadata": {
    "colab": {
      "name": "Plataformas - Trabalho Final.ipynb",
      "provenance": [],
      "collapsed_sections": [],
      "include_colab_link": true
    },
    "kernelspec": {
      "name": "python3",
      "display_name": "Python 3"
    }
  },
  "cells": [
    {
      "cell_type": "markdown",
      "metadata": {
        "id": "view-in-github",
        "colab_type": "text"
      },
      "source": [
        "<a href=\"https://colab.research.google.com/github/GlenLuiz/IA/blob/master/Plataformas_Trabalho_Final.ipynb\" target=\"_parent\"><img src=\"https://colab.research.google.com/assets/colab-badge.svg\" alt=\"Open In Colab\"/></a>"
      ]
    },
    {
      "cell_type": "markdown",
      "metadata": {
        "id": "ITZ8X-hf6DZ2"
      },
      "source": [
        "# Configurações"
      ]
    },
    {
      "cell_type": "code",
      "metadata": {
        "colab": {
          "base_uri": "https://localhost:8080/"
        },
        "id": "msRd76bkCdFg",
        "outputId": "1c57ce51-861e-4305-ddd5-7c351ad0e4d2"
      },
      "source": [
        "pip install --upgrade \"ibm-watson>=5.3.0\"\n"
      ],
      "execution_count": 1,
      "outputs": [
        {
          "output_type": "stream",
          "name": "stdout",
          "text": [
            "Collecting ibm-watson>=5.3.0\n",
            "  Downloading ibm-watson-5.3.0.tar.gz (412 kB)\n",
            "\u001b[?25l\r\u001b[K     |▉                               | 10 kB 30.6 MB/s eta 0:00:01\r\u001b[K     |█▋                              | 20 kB 30.9 MB/s eta 0:00:01\r\u001b[K     |██▍                             | 30 kB 21.2 MB/s eta 0:00:01\r\u001b[K     |███▏                            | 40 kB 17.3 MB/s eta 0:00:01\r\u001b[K     |████                            | 51 kB 8.1 MB/s eta 0:00:01\r\u001b[K     |████▊                           | 61 kB 8.5 MB/s eta 0:00:01\r\u001b[K     |█████▋                          | 71 kB 7.4 MB/s eta 0:00:01\r\u001b[K     |██████▍                         | 81 kB 8.3 MB/s eta 0:00:01\r\u001b[K     |███████▏                        | 92 kB 8.4 MB/s eta 0:00:01\r\u001b[K     |████████                        | 102 kB 7.6 MB/s eta 0:00:01\r\u001b[K     |████████▊                       | 112 kB 7.6 MB/s eta 0:00:01\r\u001b[K     |█████████▌                      | 122 kB 7.6 MB/s eta 0:00:01\r\u001b[K     |██████████▎                     | 133 kB 7.6 MB/s eta 0:00:01\r\u001b[K     |███████████▏                    | 143 kB 7.6 MB/s eta 0:00:01\r\u001b[K     |████████████                    | 153 kB 7.6 MB/s eta 0:00:01\r\u001b[K     |████████████▊                   | 163 kB 7.6 MB/s eta 0:00:01\r\u001b[K     |█████████████▌                  | 174 kB 7.6 MB/s eta 0:00:01\r\u001b[K     |██████████████▎                 | 184 kB 7.6 MB/s eta 0:00:01\r\u001b[K     |███████████████                 | 194 kB 7.6 MB/s eta 0:00:01\r\u001b[K     |████████████████                | 204 kB 7.6 MB/s eta 0:00:01\r\u001b[K     |████████████████▊               | 215 kB 7.6 MB/s eta 0:00:01\r\u001b[K     |█████████████████▌              | 225 kB 7.6 MB/s eta 0:00:01\r\u001b[K     |██████████████████▎             | 235 kB 7.6 MB/s eta 0:00:01\r\u001b[K     |███████████████████             | 245 kB 7.6 MB/s eta 0:00:01\r\u001b[K     |███████████████████▉            | 256 kB 7.6 MB/s eta 0:00:01\r\u001b[K     |████████████████████▋           | 266 kB 7.6 MB/s eta 0:00:01\r\u001b[K     |█████████████████████▌          | 276 kB 7.6 MB/s eta 0:00:01\r\u001b[K     |██████████████████████▎         | 286 kB 7.6 MB/s eta 0:00:01\r\u001b[K     |███████████████████████         | 296 kB 7.6 MB/s eta 0:00:01\r\u001b[K     |███████████████████████▉        | 307 kB 7.6 MB/s eta 0:00:01\r\u001b[K     |████████████████████████▋       | 317 kB 7.6 MB/s eta 0:00:01\r\u001b[K     |█████████████████████████▍      | 327 kB 7.6 MB/s eta 0:00:01\r\u001b[K     |██████████████████████████▏     | 337 kB 7.6 MB/s eta 0:00:01\r\u001b[K     |███████████████████████████     | 348 kB 7.6 MB/s eta 0:00:01\r\u001b[K     |███████████████████████████▉    | 358 kB 7.6 MB/s eta 0:00:01\r\u001b[K     |████████████████████████████▋   | 368 kB 7.6 MB/s eta 0:00:01\r\u001b[K     |█████████████████████████████▍  | 378 kB 7.6 MB/s eta 0:00:01\r\u001b[K     |██████████████████████████████▏ | 389 kB 7.6 MB/s eta 0:00:01\r\u001b[K     |███████████████████████████████ | 399 kB 7.6 MB/s eta 0:00:01\r\u001b[K     |███████████████████████████████▉| 409 kB 7.6 MB/s eta 0:00:01\r\u001b[K     |████████████████████████████████| 412 kB 7.6 MB/s \n",
            "\u001b[?25h  Installing build dependencies ... \u001b[?25l\u001b[?25hdone\n",
            "  Getting requirements to build wheel ... \u001b[?25l\u001b[?25hdone\n",
            "    Preparing wheel metadata ... \u001b[?25l\u001b[?25hdone\n",
            "Collecting websocket-client==1.1.0\n",
            "  Downloading websocket_client-1.1.0-py2.py3-none-any.whl (68 kB)\n",
            "\u001b[K     |████████████████████████████████| 68 kB 8.2 MB/s \n",
            "\u001b[?25hRequirement already satisfied: python-dateutil>=2.5.3 in /usr/local/lib/python3.7/dist-packages (from ibm-watson>=5.3.0) (2.8.2)\n",
            "Requirement already satisfied: requests<3.0,>=2.0 in /usr/local/lib/python3.7/dist-packages (from ibm-watson>=5.3.0) (2.23.0)\n",
            "Collecting ibm-cloud-sdk-core==3.*,>=3.3.6\n",
            "  Downloading ibm-cloud-sdk-core-3.13.0.tar.gz (49 kB)\n",
            "\u001b[K     |████████████████████████████████| 49 kB 7.3 MB/s \n",
            "\u001b[?25hCollecting PyJWT<3.0.0,>=2.0.1\n",
            "  Downloading PyJWT-2.3.0-py3-none-any.whl (16 kB)\n",
            "Requirement already satisfied: six>=1.5 in /usr/local/lib/python3.7/dist-packages (from python-dateutil>=2.5.3->ibm-watson>=5.3.0) (1.15.0)\n",
            "Requirement already satisfied: chardet<4,>=3.0.2 in /usr/local/lib/python3.7/dist-packages (from requests<3.0,>=2.0->ibm-watson>=5.3.0) (3.0.4)\n",
            "Requirement already satisfied: idna<3,>=2.5 in /usr/local/lib/python3.7/dist-packages (from requests<3.0,>=2.0->ibm-watson>=5.3.0) (2.10)\n",
            "Requirement already satisfied: urllib3!=1.25.0,!=1.25.1,<1.26,>=1.21.1 in /usr/local/lib/python3.7/dist-packages (from requests<3.0,>=2.0->ibm-watson>=5.3.0) (1.24.3)\n",
            "Requirement already satisfied: certifi>=2017.4.17 in /usr/local/lib/python3.7/dist-packages (from requests<3.0,>=2.0->ibm-watson>=5.3.0) (2021.10.8)\n",
            "Building wheels for collected packages: ibm-watson, ibm-cloud-sdk-core\n",
            "  Building wheel for ibm-watson (PEP 517) ... \u001b[?25l\u001b[?25hdone\n",
            "  Created wheel for ibm-watson: filename=ibm_watson-5.3.0-py3-none-any.whl size=408872 sha256=af0fbb1b16c122d8103ccbda464b6758c92c02aecc3e2bb3119030b63182ba94\n",
            "  Stored in directory: /root/.cache/pip/wheels/21/d9/82/4ce5b94730bc4f1f7b4c6384f72964b9b8f79fcc125bb8085c\n",
            "  Building wheel for ibm-cloud-sdk-core (setup.py) ... \u001b[?25l\u001b[?25hdone\n",
            "  Created wheel for ibm-cloud-sdk-core: filename=ibm_cloud_sdk_core-3.13.0-py3-none-any.whl size=83058 sha256=1dabc2448b2f423dd24eb6e39d6fb822bf20b97a984c20ea30befd5295dd82f8\n",
            "  Stored in directory: /root/.cache/pip/wheels/35/75/1c/6c9efd20e2ae82dcd6bf046b1268b06b48d70d5f3301a0495d\n",
            "Successfully built ibm-watson ibm-cloud-sdk-core\n",
            "Installing collected packages: PyJWT, websocket-client, ibm-cloud-sdk-core, ibm-watson\n",
            "Successfully installed PyJWT-2.3.0 ibm-cloud-sdk-core-3.13.0 ibm-watson-5.3.0 websocket-client-1.1.0\n"
          ]
        }
      ]
    },
    {
      "cell_type": "markdown",
      "metadata": {
        "id": "AuzRkIfO6M_d"
      },
      "source": [
        "Imports de Pacotes"
      ]
    },
    {
      "cell_type": "code",
      "metadata": {
        "id": "GMPxIg3j480h"
      },
      "source": [
        "from IPython.display import display, Javascript\n",
        "from IPython.display import Image\n",
        "from google.colab.output import eval_js\n",
        "from base64 import b64decode"
      ],
      "execution_count": 4,
      "outputs": []
    },
    {
      "cell_type": "markdown",
      "metadata": {
        "id": "SsLYaoPJ6O65"
      },
      "source": [
        "Funções úteis"
      ]
    },
    {
      "cell_type": "code",
      "metadata": {
        "id": "fgjAkHGT4_PW"
      },
      "source": [
        "def take_photo(filename='photo.jpg', quality=0.8):\n",
        "  js = Javascript('''\n",
        "    async function takePhoto(quality) {\n",
        "      const div = document.createElement('div');\n",
        "      const capture = document.createElement('button');\n",
        "      capture.textContent = 'Capture';\n",
        "      div.appendChild(capture);\n",
        "\n",
        "      const video = document.createElement('video');\n",
        "      video.style.display = 'block';\n",
        "      const stream = await navigator.mediaDevices.getUserMedia({video: true});\n",
        "\n",
        "      document.body.appendChild(div);\n",
        "      div.appendChild(video);\n",
        "      video.srcObject = stream;\n",
        "      await video.play();\n",
        "\n",
        "      // Resize the output to fit the video element.\n",
        "      google.colab.output.setIframeHeight(document.documentElement.scrollHeight, true);\n",
        "\n",
        "      // Wait for Capture to be clicked.\n",
        "      await new Promise((resolve) => capture.onclick = resolve);\n",
        "\n",
        "      const canvas = document.createElement('canvas');\n",
        "      canvas.width = video.videoWidth;\n",
        "      canvas.height = video.videoHeight;\n",
        "      canvas.getContext('2d').drawImage(video, 0, 0);\n",
        "      stream.getVideoTracks()[0].stop();\n",
        "      div.remove();\n",
        "      return canvas.toDataURL('image/jpeg', quality);\n",
        "    }\n",
        "    ''')\n",
        "  display(js)\n",
        "  data = eval_js('takePhoto({})'.format(quality))\n",
        "  binary = b64decode(data.split(',')[1])\n",
        "  with open(filename, 'wb') as f:\n",
        "    f.write(binary)\n",
        "  return filename"
      ],
      "execution_count": 5,
      "outputs": []
    },
    {
      "cell_type": "markdown",
      "metadata": {
        "id": "ylp3x05m6Sp9"
      },
      "source": [
        "# Informações do cliente"
      ]
    },
    {
      "cell_type": "code",
      "metadata": {
        "id": "DP6I38-R6Zpp"
      },
      "source": [
        "#@title Preencha aqui com as informações do cliente requisitante\n",
        "\n",
        "#@markdown Informe todos os campos a seguir:\n",
        "nome = \"Informe aqui o nome\" #@param {type:\"string\"}\n",
        "\n",
        "renda = 1000.00 #@param {type:\"number\"}\n",
        "idade = 18 #@param {type:\"slider\", min:18, max:100, step:1}\n",
        "etnia = \"Selecionar etnia\"  #@param [\"Selecionar etnia\", \"Etnia01\", \"Etnia02\"]\n",
        "genero = \"Feminino\" #@param [\"Masculino\", \"Feminino\"]\n",
        "casa_propria = \"Selecionar\" #@param [\"Selecionar\", \"Sim\", \"Não\"]\n",
        "outras_rendas = \"Selecionar\" #@param [\"Selecionar\", \"Sim\", \"Não\"]\n",
        "estado_civil = \"Selecionar\" #@param [\"Selecionar\", \"Estado01\", \"Estado02\"]\n",
        "escolaridade = 1 #@param {type:\"slider\", min:0, max:3, step:1}\n",
        "\n",
        "#@markdown ---\n"
      ],
      "execution_count": null,
      "outputs": []
    },
    {
      "cell_type": "code",
      "metadata": {
        "id": "dlLpClyi4_PB",
        "colab": {
          "base_uri": "https://localhost:8080/",
          "height": 514
        },
        "outputId": "f035e828-3a2b-4479-be80-c7ae3cde1743"
      },
      "source": [
        "#@title Tire uma foto do cliente requerente (ou tire uma foto sua mesmo)\n",
        "\n",
        "try:\n",
        "  filename = take_photo()\n",
        "  print('Saved to {}'.format(filename))\n",
        "  \n",
        "  # Show the image which was just taken.\n",
        "  display(Image(filename))\n",
        "except Exception as err:\n",
        "  # Errors will be thrown if the user does not have a webcam or if they do not\n",
        "  # grant the page permission to access it.\n",
        "  print(str(err))"
      ],
      "execution_count": 37,
      "outputs": [
        {
          "output_type": "display_data",
          "data": {
            "application/javascript": [
              "\n",
              "    async function takePhoto(quality) {\n",
              "      const div = document.createElement('div');\n",
              "      const capture = document.createElement('button');\n",
              "      capture.textContent = 'Capture';\n",
              "      div.appendChild(capture);\n",
              "\n",
              "      const video = document.createElement('video');\n",
              "      video.style.display = 'block';\n",
              "      const stream = await navigator.mediaDevices.getUserMedia({video: true});\n",
              "\n",
              "      document.body.appendChild(div);\n",
              "      div.appendChild(video);\n",
              "      video.srcObject = stream;\n",
              "      await video.play();\n",
              "\n",
              "      // Resize the output to fit the video element.\n",
              "      google.colab.output.setIframeHeight(document.documentElement.scrollHeight, true);\n",
              "\n",
              "      // Wait for Capture to be clicked.\n",
              "      await new Promise((resolve) => capture.onclick = resolve);\n",
              "\n",
              "      const canvas = document.createElement('canvas');\n",
              "      canvas.width = video.videoWidth;\n",
              "      canvas.height = video.videoHeight;\n",
              "      canvas.getContext('2d').drawImage(video, 0, 0);\n",
              "      stream.getVideoTracks()[0].stop();\n",
              "      div.remove();\n",
              "      return canvas.toDataURL('image/jpeg', quality);\n",
              "    }\n",
              "    "
            ],
            "text/plain": [
              "<IPython.core.display.Javascript object>"
            ]
          },
          "metadata": {}
        },
        {
          "output_type": "stream",
          "name": "stdout",
          "text": [
            "Saved to photo.jpg\n"
          ]
        },
        {
          "output_type": "display_data",
          "data": {
            "image/jpeg": "[encoded data removed]",
            "text/plain": [
              "<IPython.core.display.Image object>"
            ]
          },
          "metadata": {}
        }
      ]
    },
    {
      "cell_type": "markdown",
      "metadata": {
        "id": "3l57T0ap-sgc"
      },
      "source": [
        "# Análise de crédito"
      ]
    },
    {
      "cell_type": "markdown",
      "metadata": {
        "id": "SQDMb5NN-0wc"
      },
      "source": [
        "1. Verifique se na imagem possui uma pessoa, utilizando a API \"default\" da IBM; Se não possuir, informar mensagem e não conceder o empréstimo.\n",
        "\n",
        "\n",
        "2.  Verifique se a imagem apresenta conteúdo explícito , utilizando a API \"explicit\"da IBM; Se possuir, informar mensagem e não conceder o empréstimo.  \n",
        "\n",
        "\n",
        "3. Verificar o gênero e a idade da pessoa utilizando a API de reconhecimento facial da Microsoft Azure; Se não for o mesmo gênero ou se a idade diferir em 5 anos (para mais ou para menos), informar mensagem e não conceder o empréstimo.\n",
        "\n",
        "\n",
        "4. Exibir a imagem novamente no notebook com os pontos \"fiduciais\" da face da pessoa, obtidos pela API da Azure. (em uma aplicação corporativa, estes pontos ficam gravados para futuras autenticações)\n",
        "\n",
        "\n",
        "5. Chamar a API de Machine Learning em um contêiner feito em Docker e que esteja rodando em uma máquina virtual no Google Cloud. Esta API deve usar os dados informados neste notebook e **automaticamente** vetar ou conceder o empréstimo.\n",
        "\n",
        "\n",
        "ATENÇÃO PARA O BULLET 5: É necessário chamar tanto um modelo que possua a variável ETNIA quanto um modelo que não possui esta variável, assim como fizemos em aula!!!\n",
        "\n",
        "\n",
        "6. Gravar um vídeo \"operando\" o notebook e simulando a avaliação com concessão ou reprovação do crédito.\n",
        "\n",
        "\n",
        "7. Submeter o Notebook e o vídeo da plataforma da FIAP, se o vídeo ficar muito grande, submeter ao Youtube (pode ser privado) e anexar o Link.\n",
        "\n",
        "---  \n",
        "(Dica: Você pode usar este vídeo para divulgar seu trabalho como Engenheiro de ML)\n"
      ]
    },
    {
      "cell_type": "code",
      "metadata": {
        "id": "80d4zZjWAN4L",
        "colab": {
          "base_uri": "https://localhost:8080/"
        },
        "outputId": "ccfba785-27ea-4bb7-eb81-d62908a88e73"
      },
      "source": [
        "import json\n",
        "from ibm_watson import VisualRecognitionV3\n",
        "from ibm_cloud_sdk_core.authenticators import IAMAuthenticator\n",
        "\n",
        "authenticator = IAMAuthenticator('w1A5-rYXDKvH-hYHZk0ulRlcRYuuDJuK5kJM8WrVXm9e')\n",
        "visual_recognition = VisualRecognitionV3(\n",
        "    version='2018-03-19',\n",
        "    authenticator=authenticator\n",
        ")\n",
        "\n",
        "visual_recognition.set_service_url('https://api.us-south.visual-recognition.watson.cloud.ibm.com/instances/742a87e4-6844-4973-98f3-f0c3d8ad895b')\n",
        "\n",
        "with open('./photo.jpg', 'rb') as images_file:\n",
        "    classes_person = visual_recognition.classify(images_file=images_file,classifier_ids=[\"explicit\", \"default\"]).get_result()\n",
        "    print(json.dumps(classes, indent=2))\n",
        "\n",
        "\n",
        "# with open('./photo.jpg', 'rb') as images_file:\n",
        "#     classes_expl = visual_recognition.classify(images_file=images_file, classifier_ids=[\"explicit\"]).get_result()\n",
        "#     print(json.dumps(classes, indent=2))"
      ],
      "execution_count": 38,
      "outputs": [
        {
          "output_type": "stream",
          "name": "stdout",
          "text": [
            "warning: On 1 December 2021, Visual Recognition will no longer be available. For more information, see https://github.com/watson-developer-cloud/python-sdk/tree/master#visual-recognition-deprecation.\n",
            "{\n",
            "  \"images\": [\n",
            "    {\n",
            "      \"classifiers\": [\n",
            "        {\n",
            "          \"classifier_id\": \"explicit\",\n",
            "          \"name\": \"explicit\",\n",
            "          \"classes\": [\n",
            "            {\n",
            "              \"class\": \"not explicit\",\n",
            "              \"score\": 0.985\n",
            "            }\n",
            "          ]\n",
            "        }\n",
            "      ],\n",
            "      \"image\": \"photo.jpg\"\n",
            "    }\n",
            "  ],\n",
            "  \"images_processed\": 1,\n",
            "  \"custom_classes\": 0\n",
            "}\n"
          ]
        }
      ]
    },
    {
      "cell_type": "code",
      "metadata": {
        "id": "auBcF_2HEZYa",
        "colab": {
          "base_uri": "https://localhost:8080/"
        },
        "outputId": "5a3145bd-4ca3-4d80-e6e3-556800d3a554"
      },
      "source": [
        "result_json = json.dumps(classes, indent=2)\n",
        "\n",
        "Contem_pessoa = False\n",
        "Contem_contExp = False\n",
        "\n",
        "\n",
        "for imagem in classes_person[\"images\"]:\n",
        "  for classifier in imagem[\"classifiers\"]:\n",
        "      for image_class in classifier[\"classes\"]:\n",
        "        if (image_class[\"class\"] == \"explicit\"):\n",
        "          Contem_contExp = True\n",
        "        elif(image_class[\"class\"] == \"person\" and image_class[\"score\"] > 0.5):\n",
        "          Contem_pessoa = True\n",
        "          break\n",
        "\n",
        "print(Contem_pessoa)\n",
        "print(Contem_contExp)"
      ],
      "execution_count": 39,
      "outputs": [
        {
          "output_type": "stream",
          "name": "stdout",
          "text": [
            "False\n",
            "False\n"
          ]
        }
      ]
    }
  ]
}